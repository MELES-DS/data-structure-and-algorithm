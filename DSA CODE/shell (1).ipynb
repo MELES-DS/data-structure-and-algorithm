{
 "cells": [
  {
   "cell_type": "code",
   "execution_count": 3,
   "metadata": {},
   "outputs": [
    {
     "name": "stdout",
     "output_type": "stream",
     "text": [
      "[2, 3, 4, 5, 6, 23, 70]\n"
     ]
    }
   ],
   "source": [
    "arr = [4, 70, 23, 3, 5, 6, 2]\n",
    "n = len(arr)\n",
    "gap = n // 2  # Start with a large gap, reduce it\n",
    "\n",
    "while gap > 0:\n",
    "    for i in range(gap, n):\n",
    "        temp = arr[i]\n",
    "        j = i\n",
    "        while j >= gap and arr[j - gap] > temp:\n",
    "            arr[j] = arr[j - gap]\n",
    "            j -= gap\n",
    "        arr[j] = temp\n",
    "    gap //= 2 \n",
    "print(arr)"
   ]
  },
  {
   "cell_type": "code",
   "execution_count": null,
   "metadata": {},
   "outputs": [],
   "source": []
  }
 ],
 "metadata": {
  "kernelspec": {
   "display_name": "Python 3",
   "language": "python",
   "name": "python3"
  },
  "language_info": {
   "codemirror_mode": {
    "name": "ipython",
    "version": 3
   },
   "file_extension": ".py",
   "mimetype": "text/x-python",
   "name": "python",
   "nbconvert_exporter": "python",
   "pygments_lexer": "ipython3",
   "version": "3.13.1"
  }
 },
 "nbformat": 4,
 "nbformat_minor": 2
}
