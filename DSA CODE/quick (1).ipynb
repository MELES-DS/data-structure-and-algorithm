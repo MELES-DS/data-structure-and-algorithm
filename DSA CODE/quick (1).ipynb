{
 "cells": [
  {
   "cell_type": "code",
   "execution_count": 1,
   "metadata": {},
   "outputs": [
    {
     "name": "stdout",
     "output_type": "stream",
     "text": [
      "[1, 5, 7, 8, 9, 10]\n"
     ]
    }
   ],
   "source": [
    "def quick_sort(arr):\n",
    "    if len(arr) <= 1:\n",
    "        return arr\n",
    "\n",
    "    # Create a stack to hold the sub-array indices\n",
    "    stack = [(0, len(arr) - 1)]\n",
    "\n",
    "    while stack:\n",
    "        start, end = stack.pop()\n",
    "        pivot = arr[end]  # Choosing the last element as pivot\n",
    "        partition_index = start\n",
    "\n",
    "        for i in range(start, end):\n",
    "            if arr[i] <= pivot:\n",
    "                arr[i], arr[partition_index] = arr[partition_index], arr[i]  # Swap\n",
    "                partition_index += 1\n",
    "\n",
    "        arr[partition_index], arr[end] = arr[end], arr[partition_index]  # Swap pivot to the correct position\n",
    "\n",
    "        # Push the indices of the left and right sub-arrays onto the stack\n",
    "        if partition_index - 1 > start:\n",
    "            stack.append((start, partition_index - 1))\n",
    "        if partition_index + 1 < end:\n",
    "            stack.append((partition_index + 1, end))\n",
    "\n",
    "    return arr\n",
    "\n",
    "# Example usage\n",
    "arr = [10, 7, 8, 9, 1, 5]\n",
    "sorted_arr = quick_sort(arr)\n",
    "print(sorted_arr)  # Output: [1, 5, 7, 8, 9, 10]"
   ]
  },
  {
   "cell_type": "code",
   "execution_count": 1,
   "metadata": {},
   "outputs": [
    {
     "name": "stdout",
     "output_type": "stream",
     "text": [
      "[1, 5, 7, 8, 9, 10]\n"
     ]
    }
   ],
   "source": [
    "arr = [10, 7, 8, 9, 1, 5]\n",
    "if len(arr) <= 1:\n",
    "    print(arr)\n",
    "\n",
    "    # Create a stack to hold the sub-array indices\n",
    "stack = [(0, len(arr) - 1)]\n",
    "\n",
    "while stack:\n",
    "    start, end = stack.pop()\n",
    "    pivot = arr[end]  # Choosing the last element as pivot\n",
    "    partition_index = start\n",
    "    for i in range(start, end):\n",
    "        if arr[i] <= pivot:\n",
    "            arr[i], arr[partition_index] = arr[partition_index], arr[i]  # Swap\n",
    "            partition_index += 1\n",
    "    arr[partition_index], arr[end] = arr[end], arr[partition_index]  # Swap pivot to the correct position\n",
    "    # Push the indices of the left and right sub-arrays onto the stack\n",
    "    if partition_index - 1 > start:\n",
    "        stack.append((start, partition_index - 1))\n",
    "    if partition_index + 1 < end:\n",
    "        stack.append((partition_index + 1, end))\n",
    "print(arr)"
   ]
  },
  {
   "cell_type": "code",
   "execution_count": null,
   "metadata": {},
   "outputs": [],
   "source": []
  }
 ],
 "metadata": {
  "kernelspec": {
   "display_name": "Python 3",
   "language": "python",
   "name": "python3"
  },
  "language_info": {
   "codemirror_mode": {
    "name": "ipython",
    "version": 3
   },
   "file_extension": ".py",
   "mimetype": "text/x-python",
   "name": "python",
   "nbconvert_exporter": "python",
   "pygments_lexer": "ipython3",
   "version": "3.13.1"
  }
 },
 "nbformat": 4,
 "nbformat_minor": 2
}
