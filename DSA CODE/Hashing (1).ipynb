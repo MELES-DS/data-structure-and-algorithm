{
 "cells": [
  {
   "cell_type": "code",
   "execution_count": 99,
   "metadata": {},
   "outputs": [],
   "source": [
    "class hashing:\n",
    "    def __init__(self, size):\n",
    "        self.size = size \n",
    "        self.hash_table = [[] for _ in range(size)]\n",
    "    \n",
    "    def hashing(self, value):\n",
    "        if type(value)== str:\n",
    "            index = hash(value) % self.size\n",
    "            return index\n",
    "        index = value % self.size\n",
    "        return index\n",
    "    \n",
    "    def insert_to(self, value):\n",
    "        index = self.hashing(value)\n",
    "        self.hash_table[index].append(value)\n",
    "    \n",
    "    def display(self):\n",
    "        for index, val in enumerate(self.hash_table):\n",
    "            print(f\"Index {index}: {val}\")\n",
    "    \n",
    "    def search(self, value):\n",
    "        S_index = self.hashing(value)\n",
    "    \n",
    "        flag = 0 \n",
    "        index = 0\n",
    "        for index, val in enumerate(self.hash_table[S_index]):\n",
    "            if val == value:\n",
    "                flag = 1\n",
    "                break\n",
    "            else:\n",
    "                flag = 0\n",
    "        if flag == 1:\n",
    "            print(f\"Value {value} found on Index: {S_index} and Sub_index: {index}\")\n",
    "        else:\n",
    "            print(f\"Item {value} is Not Found\")\n",
    "            \n",
    "    \n",
    "    def update(self, value):\n",
    "        S_index = self.hashing(value)\n",
    "        \n",
    "        \n",
    "        flag = 0 \n",
    "        index = 0\n",
    "        for index, val in enumerate(self.hash_table[S_index]):\n",
    "            if val == value:\n",
    "                flag = 1\n",
    "                break\n",
    "            else:\n",
    "                flag = 0\n",
    "        if flag == 1:\n",
    "            print(f\"Value {value} found on Index: {S_index} and Sub_index: {index}\")\n",
    "        else:\n",
    "            print(f\"Item {value} is Not Found\")\n",
    "    \n",
    "    \n",
    "    def delete_value(self, value):\n",
    "        S_index = self.hashing(value)\n",
    "        if len(self.hash_table[S_index]) != 0:\n",
    "            self.hash_table[S_index].remove(value) \n",
    "        else:\n",
    "            print(f\"Element {value} Not Found\")\n",
    "                 "
   ]
  },
  {
   "cell_type": "code",
   "execution_count": 100,
   "metadata": {},
   "outputs": [],
   "source": [
    "d = hashing(10)"
   ]
  },
  {
   "cell_type": "code",
   "execution_count": 107,
   "metadata": {},
   "outputs": [],
   "source": [
    "d.insert_to(300)"
   ]
  },
  {
   "cell_type": "code",
   "execution_count": 108,
   "metadata": {},
   "outputs": [
    {
     "name": "stdout",
     "output_type": "stream",
     "text": [
      "Index 0: [40, 300]\n",
      "Index 1: []\n",
      "Index 2: []\n",
      "Index 3: ['Data Science']\n",
      "Index 4: []\n",
      "Index 5: []\n",
      "Index 6: []\n",
      "Index 7: []\n",
      "Index 8: []\n",
      "Index 9: []\n"
     ]
    }
   ],
   "source": [
    "d.display()"
   ]
  },
  {
   "cell_type": "code",
   "execution_count": 112,
   "metadata": {},
   "outputs": [
    {
     "name": "stdout",
     "output_type": "stream",
     "text": [
      "Value Data Science found on Index: 3 and Sub_index: 0\n"
     ]
    }
   ],
   "source": [
    "d.search(\"Data Science\")"
   ]
  },
  {
   "cell_type": "code",
   "execution_count": 111,
   "metadata": {},
   "outputs": [],
   "source": [
    "d.delete_value(40)"
   ]
  },
  {
   "cell_type": "code",
   "execution_count": 52,
   "metadata": {},
   "outputs": [
    {
     "name": "stdout",
     "output_type": "stream",
     "text": [
      "\n",
      "\n",
      "Index 0: ['IT']\n",
      "Index 1: []\n",
      "Index 2: []\n",
      "Index 3: []\n",
      "Index 4: []\n",
      "Index 5: ['SW']\n",
      "Index 6: []\n",
      "Index 7: ['DS']\n",
      "Index 8: []\n",
      "Index 9: ['IS']\n"
     ]
    }
   ],
   "source": [
    "import mmh3  # MurmurHash3 library\n",
    "\n",
    "class HashTable:\n",
    "    def __init__(self, size=10):\n",
    "        self.size = size\n",
    "        self.table = [[] for _ in range(size)]   \n",
    "\n",
    "    def _hash(self, key):\n",
    "        hash_value = mmh3.hash(key, seed=42)\n",
    "        return hash_value % self.size  # Ensure index is within table size\n",
    "\n",
    "    def insert(self, key):\n",
    "        \"\"\"Insert key pair into hash table.\"\"\"\n",
    "        index = self._hash(key)\n",
    "        self.table[index].append((key))  # Store key-value pair\n",
    "\n",
    "    def search(self, key):\n",
    "        \"\"\"Retrieve a value by key.\"\"\"\n",
    "        index = self._hash(key)\n",
    "        for k in self.table[index]:  # Search for key in bucket\n",
    "            if k == key:\n",
    "                print(f\"{key}: found on {index}\")\n",
    "                break\n",
    "        return None  # Return None if key not found\n",
    "\n",
    "    def display(self):\n",
    "        \"\"\"Print the hash table for visualization.\"\"\"\n",
    "        for i, bucket in enumerate(self.table):\n",
    "            print(f\"Index {i}: {bucket}\")\n",
    "\n",
    "ht = HashTable()\n",
    "\n",
    "# Insert Elements to hash table\n",
    "ht.insert(\"DS\")\n",
    "ht.insert(\"IS\")\n",
    "ht.insert(\"IT\")\n",
    "ht.insert(\"SW\")\n",
    "\n",
    "# Search for a key\n",
    "ht.search(\"F\")\n",
    "print(\"\\n\")\n",
    "\n",
    "# Display the hash table\n",
    "ht.display()\n"
   ]
  },
  {
   "cell_type": "code",
   "execution_count": null,
   "metadata": {},
   "outputs": [],
   "source": []
  }
 ],
 "metadata": {
  "kernelspec": {
   "display_name": "Python 3",
   "language": "python",
   "name": "python3"
  },
  "language_info": {
   "codemirror_mode": {
    "name": "ipython",
    "version": 3
   },
   "file_extension": ".py",
   "mimetype": "text/x-python",
   "name": "python",
   "nbconvert_exporter": "python",
   "pygments_lexer": "ipython3",
   "version": "3.13.0"
  }
 },
 "nbformat": 4,
 "nbformat_minor": 2
}
